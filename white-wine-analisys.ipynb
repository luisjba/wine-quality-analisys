{
 "cells": [
  {
   "cell_type": "markdown",
   "id": "2fa7bd65",
   "metadata": {},
   "source": [
    "## Importing libraries"
   ]
  },
  {
   "cell_type": "code",
   "execution_count": 57,
   "id": "e2ae98cc",
   "metadata": {},
   "outputs": [],
   "source": [
    "import numpy as np\n",
    "import matplotlib.pyplot as plt\n",
    "import pandas as pd\n",
    "from sklearn.model_selection import train_test_split\n",
    "from sklearn.linear_model import LinearRegression\n",
    "from sklearn.preprocessing import StandardScaler\n",
    "from sklearn.metrics import r2_score, mean_squared_error\n",
    "import urllib \n",
    "import os\n",
    "from IPython.display import Markdown as md\n",
    "%matplotlib inline"
   ]
  },
  {
   "cell_type": "markdown",
   "id": "77d99b02",
   "metadata": {},
   "source": [
    "## Descargando e importando el set de datos de vino blanco\n",
    "\n",
    "Los datos con los que haremos nuestro análisis corresponden a muestras tomadas del vino blanco de el norte de Portugal, datos que corresponden a características físico-químicas del vino. El  [dataset de vinos blancos](https://archive.ics.uci.edu/ml/machine-learning-databases/wine-quality/winequality-white.csv) es público y disponible para investigaciones, cuenta con la [descripción de los datos](https://archive.ics.uci.edu/ml/machine-learning-databases/wine-quality/winequality.names) disponible al público también."
   ]
  },
  {
   "cell_type": "markdown",
   "id": "690b4075",
   "metadata": {},
   "source": [
    "#### Descarga datos y creando data frame"
   ]
  },
  {
   "cell_type": "code",
   "execution_count": 9,
   "id": "ac318ce2",
   "metadata": {},
   "outputs": [
    {
     "data": {
      "text/html": [
       "<div>\n",
       "<style scoped>\n",
       "    .dataframe tbody tr th:only-of-type {\n",
       "        vertical-align: middle;\n",
       "    }\n",
       "\n",
       "    .dataframe tbody tr th {\n",
       "        vertical-align: top;\n",
       "    }\n",
       "\n",
       "    .dataframe thead th {\n",
       "        text-align: right;\n",
       "    }\n",
       "</style>\n",
       "<table border=\"1\" class=\"dataframe\">\n",
       "  <thead>\n",
       "    <tr style=\"text-align: right;\">\n",
       "      <th></th>\n",
       "      <th>fixed acidity</th>\n",
       "      <th>volatile acidity</th>\n",
       "      <th>citric acid</th>\n",
       "      <th>residual sugar</th>\n",
       "      <th>chlorides</th>\n",
       "      <th>free sulfur dioxide</th>\n",
       "      <th>total sulfur dioxide</th>\n",
       "      <th>density</th>\n",
       "      <th>pH</th>\n",
       "      <th>sulphates</th>\n",
       "      <th>alcohol</th>\n",
       "      <th>quality</th>\n",
       "    </tr>\n",
       "  </thead>\n",
       "  <tbody>\n",
       "    <tr>\n",
       "      <th>0</th>\n",
       "      <td>7.0</td>\n",
       "      <td>0.27</td>\n",
       "      <td>0.36</td>\n",
       "      <td>20.7</td>\n",
       "      <td>0.045</td>\n",
       "      <td>45.0</td>\n",
       "      <td>170.0</td>\n",
       "      <td>1.0010</td>\n",
       "      <td>3.00</td>\n",
       "      <td>0.45</td>\n",
       "      <td>8.8</td>\n",
       "      <td>6</td>\n",
       "    </tr>\n",
       "    <tr>\n",
       "      <th>1</th>\n",
       "      <td>6.3</td>\n",
       "      <td>0.30</td>\n",
       "      <td>0.34</td>\n",
       "      <td>1.6</td>\n",
       "      <td>0.049</td>\n",
       "      <td>14.0</td>\n",
       "      <td>132.0</td>\n",
       "      <td>0.9940</td>\n",
       "      <td>3.30</td>\n",
       "      <td>0.49</td>\n",
       "      <td>9.5</td>\n",
       "      <td>6</td>\n",
       "    </tr>\n",
       "    <tr>\n",
       "      <th>2</th>\n",
       "      <td>8.1</td>\n",
       "      <td>0.28</td>\n",
       "      <td>0.40</td>\n",
       "      <td>6.9</td>\n",
       "      <td>0.050</td>\n",
       "      <td>30.0</td>\n",
       "      <td>97.0</td>\n",
       "      <td>0.9951</td>\n",
       "      <td>3.26</td>\n",
       "      <td>0.44</td>\n",
       "      <td>10.1</td>\n",
       "      <td>6</td>\n",
       "    </tr>\n",
       "    <tr>\n",
       "      <th>3</th>\n",
       "      <td>7.2</td>\n",
       "      <td>0.23</td>\n",
       "      <td>0.32</td>\n",
       "      <td>8.5</td>\n",
       "      <td>0.058</td>\n",
       "      <td>47.0</td>\n",
       "      <td>186.0</td>\n",
       "      <td>0.9956</td>\n",
       "      <td>3.19</td>\n",
       "      <td>0.40</td>\n",
       "      <td>9.9</td>\n",
       "      <td>6</td>\n",
       "    </tr>\n",
       "    <tr>\n",
       "      <th>4</th>\n",
       "      <td>7.2</td>\n",
       "      <td>0.23</td>\n",
       "      <td>0.32</td>\n",
       "      <td>8.5</td>\n",
       "      <td>0.058</td>\n",
       "      <td>47.0</td>\n",
       "      <td>186.0</td>\n",
       "      <td>0.9956</td>\n",
       "      <td>3.19</td>\n",
       "      <td>0.40</td>\n",
       "      <td>9.9</td>\n",
       "      <td>6</td>\n",
       "    </tr>\n",
       "  </tbody>\n",
       "</table>\n",
       "</div>"
      ],
      "text/plain": [
       "   fixed acidity  volatile acidity  citric acid  residual sugar  chlorides  \\\n",
       "0            7.0              0.27         0.36            20.7      0.045   \n",
       "1            6.3              0.30         0.34             1.6      0.049   \n",
       "2            8.1              0.28         0.40             6.9      0.050   \n",
       "3            7.2              0.23         0.32             8.5      0.058   \n",
       "4            7.2              0.23         0.32             8.5      0.058   \n",
       "\n",
       "   free sulfur dioxide  total sulfur dioxide  density    pH  sulphates  \\\n",
       "0                 45.0                 170.0   1.0010  3.00       0.45   \n",
       "1                 14.0                 132.0   0.9940  3.30       0.49   \n",
       "2                 30.0                  97.0   0.9951  3.26       0.44   \n",
       "3                 47.0                 186.0   0.9956  3.19       0.40   \n",
       "4                 47.0                 186.0   0.9956  3.19       0.40   \n",
       "\n",
       "   alcohol  quality  \n",
       "0      8.8        6  \n",
       "1      9.5        6  \n",
       "2     10.1        6  \n",
       "3      9.9        6  \n",
       "4      9.9        6  "
      ]
     },
     "execution_count": 9,
     "metadata": {},
     "output_type": "execute_result"
    }
   ],
   "source": [
    "download_url = 'https://archive.ics.uci.edu/ml/machine-learning-databases/wine-quality/winequality-white.csv'\n",
    "downloaded_file = 'data/winequality-white.csv'\n",
    "# download only if not present\n",
    "if not os.path.isfile(downloaded_file):\n",
    "    urllib.request.urlretrieve(download_url, downloaded_file)\n",
    "data = pd.read_csv(downloaded_file, sep=\";\")\n",
    "data.head(5)"
   ]
  },
  {
   "cell_type": "markdown",
   "id": "da2581da",
   "metadata": {},
   "source": [
    "### Informacion de los datos\n",
    "\n",
    "Los datos contienen 11 variables y en la columna 12 está es score que corresponde a la calidad del vino, con rango de 0 a 10."
   ]
  },
  {
   "cell_type": "code",
   "execution_count": 22,
   "id": "8d25821d",
   "metadata": {},
   "outputs": [
    {
     "data": {
      "text/markdown": [
       "#### Lista de variables\n",
       "\n",
       "    1 - Acidez fija\n",
       "    2 - Acidez volatil\n",
       "    3 - Acido citrico\n",
       "    4 - Azucar residual\n",
       "    5 - Cloruros\n",
       "    6 - Dioxido de sulfuro libre\n",
       "    7 - Dioxido de sulfuro total\n",
       "    8 - Densidad\n",
       "    9 - pH\n",
       "    10 - Sulfatos\n",
       "    11 - alcohol\n",
       "\n"
      ],
      "text/plain": [
       "<IPython.core.display.Markdown object>"
      ]
     },
     "execution_count": 22,
     "metadata": {},
     "output_type": "execute_result"
    }
   ],
   "source": [
    "columns=[\"Acidez fija\", \"Acidez volatil\", \n",
    "         \"Acido citrico\", \"Azucar residual\", \"Cloruros\",\n",
    "         \"Dioxido de sulfuro libre\", \"Dioxido de sulfuro total\",\n",
    "         \"Densidad\", \"pH\",\"Sulfatos\", \"alcohol\", \"Calidad\"]\n",
    "md_text = \"\"\n",
    "for i,c_name in enumerate(columns[:-1]):\n",
    "    md_text = md_text + \"\\n    {} - {}\".format(i+1, c_name)\n",
    "md(\"\"\"#### Lista de variables\n",
    "{}\n",
    "\n",
    "\"\"\".format(md_text))    \n"
   ]
  },
  {
   "cell_type": "markdown",
   "id": "a7a016e1",
   "metadata": {},
   "source": [
    "#### Partiendo los datos para entrenamiento y prueba\n",
    "\n",
    "Utilizamos la funcion `train_test_split` y dividoremos los datos en un 80% para entrenamiento y 20% para pruebas"
   ]
  },
  {
   "cell_type": "code",
   "execution_count": 23,
   "id": "9bc4f0e6",
   "metadata": {},
   "outputs": [],
   "source": [
    "X = data.iloc[:, :-1].values\n",
    "y = data.iloc[:, -1].values\n",
    "X_train, X_test, y_train, y_test = train_test_split(X, y, test_size = 0.2, random_state = 0)"
   ]
  },
  {
   "cell_type": "markdown",
   "id": "2265dd44",
   "metadata": {},
   "source": [
    "### Escalando datos"
   ]
  },
  {
   "cell_type": "code",
   "execution_count": 58,
   "id": "44dd3546",
   "metadata": {},
   "outputs": [],
   "source": [
    "sc_X = StandardScaler()\n",
    "X_train = sc_X.fit_transform(X_train)\n",
    "X_test = sc_X.transform(X_test)"
   ]
  },
  {
   "cell_type": "markdown",
   "id": "6050d718",
   "metadata": {},
   "source": [
    "### Entranamiento del modelo\n",
    "\n",
    "Utilizaremos varios modelos de regresión para comparar resultados y seleccionar el mejor predictor.\n",
    "\n",
    "#### Regresion Linear Múltiple\n",
    "\n",
    "##### Entrenamiento"
   ]
  },
  {
   "cell_type": "code",
   "execution_count": 59,
   "id": "b110ff56",
   "metadata": {},
   "outputs": [
    {
     "data": {
      "text/plain": [
       "LinearRegression(copy_X=True, fit_intercept=True, n_jobs=None, normalize=False)"
      ]
     },
     "execution_count": 59,
     "metadata": {},
     "output_type": "execute_result"
    }
   ],
   "source": [
    "regressor = LinearRegression()\n",
    "regressor.fit(X_train, y_train)"
   ]
  },
  {
   "cell_type": "markdown",
   "id": "941ffbfd",
   "metadata": {},
   "source": [
    "##### Prediciondo en el set de datos de prueba"
   ]
  },
  {
   "cell_type": "code",
   "execution_count": 60,
   "id": "fba27514",
   "metadata": {},
   "outputs": [
    {
     "name": "stdout",
     "output_type": "stream",
     "text": [
      "[[5.59 5.  ]\n",
      " [5.47 6.  ]\n",
      " [6.09 7.  ]\n",
      " ...\n",
      " [5.55 6.  ]\n",
      " [5.5  6.  ]\n",
      " [4.8  4.  ]]\n"
     ]
    }
   ],
   "source": [
    "y_pred = regressor.predict(X_test)\n",
    "# y_pred = y_pred.astype(int)\n",
    "np.set_printoptions(precision=2)\n",
    "print(np.concatenate((y_pred.reshape(len(y_pred),1), y_test.reshape(len(y_test),1)),1))\n"
   ]
  },
  {
   "cell_type": "code",
   "execution_count": null,
   "id": "b205f6a0",
   "metadata": {},
   "outputs": [],
   "source": []
  },
  {
   "cell_type": "markdown",
   "id": "8062a493",
   "metadata": {},
   "source": [
    "##### Evaluacion del performance del modelo"
   ]
  },
  {
   "cell_type": "code",
   "execution_count": 61,
   "id": "635c7230",
   "metadata": {},
   "outputs": [
    {
     "name": "stdout",
     "output_type": "stream",
     "text": [
      "R2 score : 0.2513476761101383\n",
      "Mean squared error: 0.6598453517957835\n"
     ]
    }
   ],
   "source": [
    "print(\"R2 score : {}\".format(r2_score(y_test, y_pred)))\n",
    "print(\"Mean squared error: {}\".format(mean_squared_error(y_test,y_pred)))"
   ]
  }
 ],
 "metadata": {
  "kernelspec": {
   "display_name": "Python 3",
   "language": "python",
   "name": "python3"
  },
  "language_info": {
   "codemirror_mode": {
    "name": "ipython",
    "version": 3
   },
   "file_extension": ".py",
   "mimetype": "text/x-python",
   "name": "python",
   "nbconvert_exporter": "python",
   "pygments_lexer": "ipython3",
   "version": "3.7.4"
  }
 },
 "nbformat": 4,
 "nbformat_minor": 5
}
